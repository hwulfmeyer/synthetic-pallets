{
 "cells": [
  {
   "cell_type": "code",
   "execution_count": 4,
   "metadata": {},
   "outputs": [],
   "source": [
    "import os\n",
    "import numpy as np\n",
    "import pandas as pd\n",
    "import re\n",
    "import shutil\n",
    "from tqdm import tqdm\n",
    "from PIL import Image\n",
    "\n",
    "\n",
    "src = r'C:\\Users\\Hans\\omni.replicator_out\\pallets_frontal'\n",
    "dest = r'C:\\Users\\Hans\\omni.replicator_out\\pallets_frontal'\n",
    "\n",
    "# Function to extract the identifier from the filename\n",
    "def extract_id(filename, prefix):\n",
    "    return re.sub(f'^{prefix}', '', filename.split('.')[0])"
   ]
  },
  {
   "cell_type": "code",
   "execution_count": 7,
   "metadata": {},
   "outputs": [
    {
     "name": "stdout",
     "output_type": "stream",
     "text": [
      "Files sorted successfully.\n"
     ]
    }
   ],
   "source": [
    "#### SORT FILES INTO FOLDERS\n",
    "\n",
    "# Define the folders to create and the file prefixes that belong in them\n",
    "folders = {\n",
    "    'delete': ('bounding_box_2d_tight_labels_','bounding_box_2d_tight_prim_paths','bounding_box_3d_tight_labels_','bounding_box_3d_prim_paths_',),\n",
    "    'bbox2D': ('bounding_box_2d_tight_',),\n",
    "    'bbox3D': ('bounding_box_3d_',),\n",
    "    'cameraparams': ('camera_params_',),\n",
    "    'depth': ('distance_to_camera_',),\n",
    "    'images': ('rgb_',),\n",
    "    'other': ()  # All other files will go here\n",
    "}\n",
    "\n",
    "# Function to check if a file belongs in a folder\n",
    "def check_file(filename, prefixes):\n",
    "    return any(filename.startswith(prefix) for prefix in prefixes)\n",
    "\n",
    "# Create the folders\n",
    "for folder in folders.keys():\n",
    "    os.makedirs(os.path.join(src, folder), exist_ok=True)\n",
    "\n",
    "# Move the files to the respective folders\n",
    "for filename in os.listdir(src):\n",
    "    filepath = os.path.join(src, filename)\n",
    "    # Ensure we are only moving files, not directories\n",
    "    if os.path.isfile(filepath):\n",
    "        moved = False  # Keep track if file was moved\n",
    "        for folder, prefixes in folders.items():\n",
    "            if check_file(filename, prefixes):\n",
    "                shutil.move(filepath, os.path.join(src, folder, filename))\n",
    "                moved = True\n",
    "                break\n",
    "        # If file did not match any prefix, move to 'other' folder\n",
    "        if not moved:\n",
    "            shutil.move(filepath, os.path.join(src, 'other', filename))\n",
    "\n",
    "print(\"Files sorted successfully.\")"
   ]
  },
  {
   "cell_type": "code",
   "execution_count": 8,
   "metadata": {},
   "outputs": [
    {
     "name": "stderr",
     "output_type": "stream",
     "text": [
      "  0%|          | 0/1000 [00:00<?, ?it/s]"
     ]
    },
    {
     "name": "stderr",
     "output_type": "stream",
     "text": [
      "100%|██████████| 1000/1000 [00:02<00:00, 337.26it/s]"
     ]
    },
    {
     "name": "stdout",
     "output_type": "stream",
     "text": [
      "       occlusion_ratio          area\n",
      "count      3881.000000   3881.000000\n",
      "mean          0.144018   2269.998454\n",
      "std           0.204757   2755.690711\n",
      "min           0.000000    180.000000\n",
      "5%            0.000000    384.000000\n",
      "25%           0.000000    648.000000\n",
      "50%           0.000000   1222.000000\n",
      "75%           0.266200   2806.000000\n",
      "90%           0.474000   5460.000000\n",
      "95%           0.567900   7644.000000\n",
      "max           0.897000  37296.000000\n",
      "Occlusion Ratio - Mean: 0.1440, Standard Deviation: 0.2048\n",
      "Occlusion Ratio - 5th Percentile: 0.0000, 95th Percentile: 0.5679\n",
      "Area - Mean: 2269.9985, Standard Deviation: 2755.6907\n",
      "Area - 5th Percentile: 384.0000, 95th Percentile: 7644.0000\n"
     ]
    },
    {
     "name": "stderr",
     "output_type": "stream",
     "text": [
      "\n"
     ]
    }
   ],
   "source": [
    "#### CONVERT BBOX to YOLO FORMAT\n",
    "\n",
    "src_dir = src + r'\\bbox2D'\n",
    "dest_dir = dest+ r'\\bbox2D_txt'\n",
    "\n",
    "# Create destination directory if it doesn't exist\n",
    "os.makedirs(dest_dir, exist_ok=True)\n",
    "\n",
    "\"\"\"\n",
    "https://docs.omniverse.nvidia.com/extensions/latest/ext_replicator/annotators_details.html\n",
    "Outputs a “tight” 2d bounding box of each entity with semantics in the camera’s viewport.\n",
    "\n",
    "Tight bounding boxes bound only the visible pixels of entities. Completely occluded entities are ommited.\n",
    "np.dtype(\n",
    "        [\n",
    "            (\"semanticId\", \"<u4\"),          # Semantic identifier which can be transformed into a readable label using the `idToLabels` mapping\n",
    "            (\"x_min\", \"<i4\"),               # Minimum bounding box pixel coordinate in x (width) axis in the range [0, width]\n",
    "            (\"y_min\", \"<i4\"),               # Minimum bounding box pixel coordinate in y (height) axis in the range [0, height]\n",
    "            (\"x_max\", \"<i4\"),               # Maximum bounding box pixel coordinate in x (width) axis in the range [0, width]\n",
    "            (\"y_max\", \"<i4\"),               # Maximum bounding box pixel coordinate in y (height) axis in the range [0, height]\n",
    "            ('occlusionRatio', '<f4')]),    # **EXPERIMENTAL** Occlusion percentage, where `0.0` is fully visible and `1.0` is fully occluded. See additional notes below.\n",
    "        ])\n",
    "\"\"\"\n",
    "\n",
    "def convert_to_yolo(arr, img_width, img_height):\n",
    "    yolo_data = []\n",
    "    yolo_data_additional = []\n",
    "    occlusion_threshold_min = 0.0\n",
    "    occlusion_threshold_max = 0.90\n",
    "    # Filter out bounding boxes with occlusion rate above the threshold\n",
    "    filtered_boxes = [box for box in arr if box[-1] >= occlusion_threshold_min and box[-1] <= occlusion_threshold_max]\n",
    "    for box in filtered_boxes:\n",
    "        semantic_id, x_min, y_min, x_max, y_max, occlusion_ratio = box\n",
    "        # Berechnung der Bounding-Box-Abmessungen und des Zentrums im YOLO-Format\n",
    "        x_center = ((x_min + x_max) / 2) / img_width\n",
    "        y_center = ((y_min + y_max) / 2) / img_height\n",
    "        width = (x_max - x_min) / img_width\n",
    "        height = (y_max - y_min) / img_height\n",
    "        occlusion_ratio = round(occlusion_ratio, 4)\n",
    "        length_abs = abs(x_min - x_max)\n",
    "        width_abs = abs(y_min - y_max)\n",
    "        area = length_abs * width_abs\n",
    "        if area > 100:\n",
    "            yolo_data.append(f\"{6} {x_center} {y_center} {width} {height}\") #hard coding 6 for pallets\n",
    "            yolo_data_additional.append(f\"{occlusion_ratio} {area}\")\n",
    "    \n",
    "    return yolo_data, yolo_data_additional\n",
    "\n",
    "def openall():\n",
    "    alldata = []\n",
    "    for filename in tqdm(os.listdir(src_dir)):\n",
    "        if filename.endswith('.npy'):\n",
    "            data = np.load(os.path.join(src_dir, filename))\n",
    "            yolo_data,yolo_data_additional = convert_to_yolo(data, img_width=1280, img_height=1280)\n",
    "            alldata += yolo_data_additional\n",
    "            yolo_id = extract_id(filename, \"bounding_box_2d_tight_\")\n",
    "            yolo_filename = os.path.join(dest_dir, yolo_id+\".txt\")\n",
    "            with open(yolo_filename, 'w') as f:\n",
    "                f.write('\\n'.join(yolo_data))\n",
    "    return alldata\n",
    "\n",
    "\n",
    "alldata = openall()\n",
    "# Convert `alldata` into a list of lists\n",
    "import pandas as pd\n",
    "\n",
    "# Assume alldata is your data\n",
    "split_data = [item.split() for item in alldata]\n",
    "for i in range(len(split_data)):\n",
    "    split_data[i] = [float(split_data[i][0])] + [int(split_data[i][1])]\n",
    "\n",
    "df = pd.DataFrame(split_data, columns=['occlusion_ratio', 'area'])\n",
    "\n",
    "# Compute statistics\n",
    "print(df.describe(percentiles=[.05, .25, .5, .75, .90, .95]))\n",
    "occlusion_mean = df['occlusion_ratio'].mean()\n",
    "occlusion_std = df['occlusion_ratio'].std()\n",
    "occlusion_05_percentile = df['occlusion_ratio'].quantile(0.05)\n",
    "occlusion_95_percentile = df['occlusion_ratio'].quantile(0.95)\n",
    "\n",
    "area_mean = df['area'].mean()\n",
    "area_std = df['area'].std()\n",
    "area_05_percentile = df['area'].quantile(0.05)\n",
    "area_95_percentile = df['area'].quantile(0.95)\n",
    "\n",
    "# Output the statistics\n",
    "print(f'Occlusion Ratio - Mean: {occlusion_mean:.4f}, Standard Deviation: {occlusion_std:.4f}')\n",
    "print(f'Occlusion Ratio - 5th Percentile: {occlusion_05_percentile:.4f}, 95th Percentile: {occlusion_95_percentile:.4f}')\n",
    "print(f'Area - Mean: {area_mean:.4f}, Standard Deviation: {area_std:.4f}')\n",
    "print(f'Area - 5th Percentile: {area_05_percentile:.4f}, 95th Percentile: {area_95_percentile:.4f}')\n"
   ]
  },
  {
   "cell_type": "code",
   "execution_count": 9,
   "metadata": {},
   "outputs": [
    {
     "name": "stderr",
     "output_type": "stream",
     "text": [
      "100%|██████████| 1000/1000 [00:36<00:00, 27.76it/s]"
     ]
    },
    {
     "name": "stdout",
     "output_type": "stream",
     "text": [
      "Conversion completed.\n"
     ]
    },
    {
     "name": "stderr",
     "output_type": "stream",
     "text": [
      "\n"
     ]
    }
   ],
   "source": [
    "#### CONVERT IMAGES TO JPG\n",
    "\n",
    "src_dir = src + r'\\images'\n",
    "dest_dir = dest+ r'\\images_jpg'\n",
    "\n",
    "# Create destination directory if it doesn't exist\n",
    "os.makedirs(dest_dir, exist_ok=True)\n",
    "\n",
    "for filename in tqdm(os.listdir(src_dir)):\n",
    "    if filename.endswith('.png'):\n",
    "        with Image.open(os.path.join(src_dir, filename)) as img:\n",
    "            dest_filename = extract_id(filename, \"rgb_\")+\".jpg\"\n",
    "            img.convert('RGB').save(os.path.join(dest_dir, dest_filename), 'JPEG', quality=80)\n",
    "\n",
    "print(\"Conversion completed.\")"
   ]
  }
 ],
 "metadata": {
  "kernelspec": {
   "display_name": "Python 3",
   "language": "python",
   "name": "python3"
  },
  "language_info": {
   "codemirror_mode": {
    "name": "ipython",
    "version": 3
   },
   "file_extension": ".py",
   "mimetype": "text/x-python",
   "name": "python",
   "nbconvert_exporter": "python",
   "pygments_lexer": "ipython3",
   "version": "3.11.6"
  },
  "orig_nbformat": 4
 },
 "nbformat": 4,
 "nbformat_minor": 2
}
